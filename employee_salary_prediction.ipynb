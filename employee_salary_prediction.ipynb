
{
 "cells": [
  {
   "cell_type": "code",
   "execution_count": null,
   "metadata": {},
   "outputs": [],
   "source": [
    "# 📌 1. Libraries Import - Sari zaruri libraries yahan import kar lo\n",
    "import pandas as pd\n",
    "import numpy as np\n",
    "import seaborn as sns\n",
    "import matplotlib.pyplot as plt\n",
    "\n",
    "from sklearn.model_selection import train_test_split\n",
    "from sklearn.preprocessing import LabelEncoder, StandardScaler\n",
    "from sklearn.linear_model import LinearRegression\n",
    "from sklearn.tree import DecisionTreeRegressor\n",
    "from sklearn.ensemble import RandomForestRegressor\n",
    "from sklearn.metrics import mean_squared_error, mean_absolute_error, r2_score\n",
    "\n",
    "import joblib\n",
    "import warnings\n",
    "warnings.filterwarnings('ignore')"
   ]
  },
  {
   "cell_type": "code",
   "execution_count": null,
   "metadata": {},
   "outputs": [],
   "source": [
    "# 📌 2. Load Dataset - Apne dataset ko yahan load karo\n",
    "df = pd.read_csv(\"Salary Data.csv\")  # <-- Update your dataset filename\n",
    "df.head()"
   ]
  },
  {
   "cell_type": "code",
   "execution_count": null,
   "metadata": {},
   "outputs": [],
   "source": [
    "# 📌 3. Basic Info & Summary\n",
    "print(\"🔍 Dataset Info:\")\n",
    "df.info()\n",
    "\n",
    "print(\"\\n🔍 Missing Values:\")\n",
    "print(df.isnull().sum())\n",
    "\n",
    "print(\"\\n📊 Statistical Summary:\")\n",
    "df.describe()"
   ]
  },
  {
   "cell_type": "code",
   "execution_count": null,
   "metadata": {},
   "outputs": [],
   "source": [
    "# 📌 4. Visualizations - Thoda data ko visualize karte hain\n",
    "sns.pairplot(df)\n",
    "plt.suptitle(\"📊 Pairplot of Features\", y=1.02)\n",
    "plt.show()\n",
    "\n",
    "plt.figure(figsize=(10,6))\n",
    "sns.heatmap(df.corr(), annot=True, cmap=\"YlGnBu\")\n",
    "plt.title(\"🧠 Correlation Matrix\")\n",
    "plt.show()"
   ]
  },
  {
   "cell_type": "code",
   "execution_count": null,
   "metadata": {},
   "outputs": [],
   "source": [
    "# 📌 5. Preprocessing - Encode + Scale + Split\n",
    "cat_cols = df.select_dtypes(include='object').columns\n",
    "le = LabelEncoder()\n",
    "for col in cat_cols:\n",
    "    df[col] = le.fit_transform(df[col])\n",
    "\n",
    "X = df[['YearsExperience']]\n",
    "y = df['Salary']\n",
    "\n",
    "scaler = StandardScaler()\n",
    "X_scaled = scaler.fit_transform(X)\n",
    "\n",
    "X_train, X_test, y_train, y_test = train_test_split(X_scaled, y, test_size=0.2, random_state=42)"
   ]
  },
  {
   "cell_type": "code",
   "execution_count": null,
   "metadata": {},
   "outputs": [],
   "source": [
    "# 📌 6. Model Training\n",
    "lr = LinearRegression()\n",
    "lr.fit(X_train, y_train)\n",
    "y_pred_lr = lr.predict(X_test)\n",
    "\n",
    "dt = DecisionTreeRegressor(random_state=42)\n",
    "dt.fit(X_train, y_train)\n",
    "y_pred_dt = dt.predict(X_test)\n",
    "\n",
    "rf = RandomForestRegressor(random_state=42)\n",
    "rf.fit(X_train, y_train)\n",
    "y_pred_rf = rf.predict(X_test)"
   ]
  },
  {
   "cell_type": "code",
   "execution_count": null,
   "metadata": {},
   "outputs": [],
   "source": [
    "# 📌 7. Evaluation Function\n",
    "def evaluate(y_true, y_pred, model_name):\n",
    "    print(f\"🔍 Evaluation - {model_name}\")\n",
    "    print(\"✅ R² Score:\", r2_score(y_true, y_pred))\n",
    "    print(\"✅ MAE:\", mean_absolute_error(y_true, y_pred))\n",
    "    print(\"✅ MSE:\", mean_squared_error(y_true, y_pred))\n",
    "    print(\"✅ RMSE:\", np.sqrt(mean_squared_error(y_true, y_pred)))\n",
    "    print(\"-\"*40)\n",
    "\n",
    "evaluate(y_test, y_pred_lr, \"Linear Regression\")\n",
    "evaluate(y_test, y_pred_dt, \"Decision Tree\")\n",
    "evaluate(y_test, y_pred_rf, \"Random Forest\")"
   ]
  },
  {
   "cell_type": "code",
   "execution_count": null,
   "metadata": {},
   "outputs": [],
   "source": [
    "# 📌 8. Visualize Predictions\n",
    "plt.figure(figsize=(12,5))\n",
    "plt.plot(y_test.values, label=\"Actual\", marker='o')\n",
    "plt.plot(y_pred_rf, label=\"Predicted (RF)\", marker='x')\n",
    "plt.title(\"📈 Actual vs Predicted Salaries - Random Forest\")\n",
    "plt.xlabel(\"Samples\")\n",
    "plt.ylabel(\"Salary\")\n",
    "plt.legend()\n",
    "plt.grid(True)\n",
    "plt.show()"
   ]
  },
  {
   "cell_type": "code",
   "execution_count": null,
   "metadata": {},
   "outputs": [],
   "source": [
    "# 📌 9. Save the Best Model\n",
    "joblib.dump(rf, \"best_salary_predictor_model.pkl\")\n",
    "print(\"✅ Model saved as best_salary_predictor_model.pkl\")"
   ]
  }
 ],
 "metadata": {
  "kernelspec": {
   "display_name": "Python 3",
   "language": "python",
   "name": "python3"
  },
  "language_info": {
   "name": "python",
   "version": "3.x"
  }
 },
 "nbformat": 4,
 "nbformat_minor": 2
}
